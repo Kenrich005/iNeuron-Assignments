{
 "cells": [
  {
   "cell_type": "markdown",
   "metadata": {},
   "source": [
    "##### 22-08-2021"
   ]
  },
  {
   "cell_type": "markdown",
   "metadata": {},
   "source": [
    "# Python Programming Assignment 7"
   ]
  },
  {
   "cell_type": "markdown",
   "metadata": {},
   "source": [
    "#### 1. Write a Python Program to find sum of array?"
   ]
  },
  {
   "cell_type": "code",
   "execution_count": 1,
   "metadata": {},
   "outputs": [
    {
     "data": {
      "text/plain": [
       "array([0, 1, 2, 3, 4, 5, 6, 7, 8, 9])"
      ]
     },
     "execution_count": 1,
     "metadata": {},
     "output_type": "execute_result"
    }
   ],
   "source": [
    "import numpy as np\n",
    "\n",
    "np.arange(10)"
   ]
  },
  {
   "cell_type": "code",
   "execution_count": 2,
   "metadata": {},
   "outputs": [
    {
     "name": "stdout",
     "output_type": "stream",
     "text": [
      "Sum of array [0 1 2 3 4 5 6 7 8 9] = 45\n"
     ]
    }
   ],
   "source": [
    "def sumofarray(arr):\n",
    "    print(f'Sum of array {arr} = {np.sum(arr)}')\n",
    "\n",
    "sumofarray(np.arange(10))"
   ]
  },
  {
   "cell_type": "markdown",
   "metadata": {},
   "source": [
    "#### 2. Write a Python Program to find largest element in an array?"
   ]
  },
  {
   "cell_type": "code",
   "execution_count": 3,
   "metadata": {},
   "outputs": [
    {
     "name": "stdout",
     "output_type": "stream",
     "text": [
      "Largest element of array [0 1 2 3 4 5 6 7 8 9] = 9\n"
     ]
    }
   ],
   "source": [
    "def maxofarray(arr):\n",
    "    print(f'Largest element of array {arr} = {np.max(arr)}')\n",
    "\n",
    "maxofarray(np.arange(10))"
   ]
  },
  {
   "cell_type": "markdown",
   "metadata": {},
   "source": [
    "#### 3. Write a Python Program for array rotation?"
   ]
  },
  {
   "cell_type": "code",
   "execution_count": 4,
   "metadata": {},
   "outputs": [
    {
     "name": "stdout",
     "output_type": "stream",
     "text": [
      "4\n",
      "5\n",
      "6\n",
      "7\n",
      "8\n",
      "9\n",
      "[4, 5, 6, 7, 8, 9, 0, 1, 2, 3]\n"
     ]
    }
   ],
   "source": [
    "def arrayrotate(arr,n):\n",
    "    temp = [0]*len(arr)\n",
    "    for i in range(len(arr)):\n",
    "        if (i+n)<10:\n",
    "            temp[i] = arr[i+n]\n",
    "            print(temp[i])\n",
    "    for i in range(n):\n",
    "        temp[-(i+1)]=arr[n-i-1]\n",
    "    print(temp)\n",
    "\n",
    "arrayrotate(np.arange(10),4)"
   ]
  },
  {
   "cell_type": "markdown",
   "metadata": {},
   "source": [
    "#### 4. Write a Python Program to Split the array and add the first part to the end?"
   ]
  },
  {
   "cell_type": "code",
   "execution_count": 5,
   "metadata": {},
   "outputs": [
    {
     "data": {
      "text/plain": [
       "array([5, 6, 7, 8, 9, 0, 1, 2, 3, 4])"
      ]
     },
     "execution_count": 5,
     "metadata": {},
     "output_type": "execute_result"
    }
   ],
   "source": [
    "arr = np.arange(10)\n",
    "\n",
    "np.append(arr[5:],arr[:5])"
   ]
  },
  {
   "cell_type": "code",
   "execution_count": 6,
   "metadata": {},
   "outputs": [
    {
     "name": "stdout",
     "output_type": "stream",
     "text": [
      "[5 6 7 8 9 0 1 2 3 4]\n"
     ]
    }
   ],
   "source": [
    "def splitnadd(arr, n):\n",
    "    return np.append(arr[n:],arr[:n])\n",
    "\n",
    "print(splitnadd(np.arange(10),5))"
   ]
  },
  {
   "cell_type": "markdown",
   "metadata": {},
   "source": [
    "#### 5. Write a Python Program to check if given array is Monotonic?"
   ]
  },
  {
   "cell_type": "code",
   "execution_count": 7,
   "metadata": {},
   "outputs": [],
   "source": [
    "arr = np.array([1,4,5,7,8,3])"
   ]
  },
  {
   "cell_type": "code",
   "execution_count": 8,
   "metadata": {},
   "outputs": [],
   "source": [
    "def monotonic_check(arr):\n",
    "    flag = False\n",
    "    i=0\n",
    "    if arr[i]<arr[i+1]:\n",
    "        print(\"Increasing Monotonic check\")\n",
    "        for i in range(len(arr)-1):\n",
    "            if arr[i]<arr[i+1]:\n",
    "                flag = True\n",
    "                continue\n",
    "            else:\n",
    "                flag = False\n",
    "                break\n",
    "    i=0\n",
    "    if arr[i]>arr[i+1]:\n",
    "        print(\"Decreasing Monotonic check\")\n",
    "        for i in range(len(arr)-1):\n",
    "            if arr[i]>arr[i+1]:\n",
    "                flag = True\n",
    "                continue\n",
    "            else:\n",
    "                flag = False\n",
    "                break\n",
    "    print(flag)"
   ]
  },
  {
   "cell_type": "code",
   "execution_count": 9,
   "metadata": {},
   "outputs": [
    {
     "name": "stdout",
     "output_type": "stream",
     "text": [
      "Decreasing Monotonic check\n",
      "False\n"
     ]
    }
   ],
   "source": [
    "monotonic_check([9,7,6,5,3,1,2])"
   ]
  },
  {
   "cell_type": "code",
   "execution_count": 10,
   "metadata": {},
   "outputs": [
    {
     "name": "stdout",
     "output_type": "stream",
     "text": [
      "Decreasing Monotonic check\n",
      "True\n"
     ]
    }
   ],
   "source": [
    "monotonic_check([9,7,6,5,3,1,0])"
   ]
  },
  {
   "cell_type": "code",
   "execution_count": 11,
   "metadata": {},
   "outputs": [
    {
     "name": "stdout",
     "output_type": "stream",
     "text": [
      "Increasing Monotonic check\n",
      "True\n"
     ]
    }
   ],
   "source": [
    "monotonic_check(np.arange(10))"
   ]
  }
 ],
 "metadata": {
  "kernelspec": {
   "display_name": "Python 3",
   "language": "python",
   "name": "python3"
  },
  "language_info": {
   "codemirror_mode": {
    "name": "ipython",
    "version": 3
   },
   "file_extension": ".py",
   "mimetype": "text/x-python",
   "name": "python",
   "nbconvert_exporter": "python",
   "pygments_lexer": "ipython3",
   "version": "3.8.5"
  }
 },
 "nbformat": 4,
 "nbformat_minor": 4
}
