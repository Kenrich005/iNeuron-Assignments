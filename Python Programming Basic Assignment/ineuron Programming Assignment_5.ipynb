{
 "cells": [
  {
   "cell_type": "markdown",
   "metadata": {},
   "source": [
    "##### 20-04-2021"
   ]
  },
  {
   "cell_type": "markdown",
   "metadata": {},
   "source": [
    "# Python Programming Assignment 5"
   ]
  },
  {
   "cell_type": "markdown",
   "metadata": {},
   "source": [
    "#### 1. Write a Python Program to find LCM."
   ]
  },
  {
   "cell_type": "code",
   "execution_count": 32,
   "metadata": {},
   "outputs": [
    {
     "name": "stdout",
     "output_type": "stream",
     "text": [
      "Enter the numbers for which you want to find LCM:2,3,5\n",
      "30\n"
     ]
    }
   ],
   "source": [
    "x = []\n",
    "\n",
    "x = input('Enter the numbers for which you want to find LCM:').split(',')\n",
    "\n",
    "x = [int(i) for i in x]\n",
    "\n",
    "lcm = max(x)\n",
    "\n",
    "while all(lcm % i == 0 for i in x)==False:    \n",
    "    \n",
    "    lcm = lcm + 1\n",
    "    \n",
    "print(lcm)"
   ]
  },
  {
   "cell_type": "markdown",
   "metadata": {},
   "source": [
    "#### 2. Write a Python Program to find HCF."
   ]
  },
  {
   "cell_type": "code",
   "execution_count": 37,
   "metadata": {},
   "outputs": [
    {
     "name": "stdout",
     "output_type": "stream",
     "text": [
      "Enter the numbers for which you want to find LCM:20,30,40\n",
      "10\n"
     ]
    }
   ],
   "source": [
    "x = []\n",
    "\n",
    "x = input('Enter the numbers for which you want to find LCM:').split(',')\n",
    "\n",
    "x = [int(i) for i in x]\n",
    "\n",
    "hcf = max(x)\n",
    "\n",
    "while all(i % hcf ==0 for i in x) == False:\n",
    "    \n",
    "    hcf = hcf - 1\n",
    "    \n",
    "print(hcf)"
   ]
  },
  {
   "cell_type": "markdown",
   "metadata": {},
   "source": [
    "#### 3. Write a Python Program to convert decimal to binary, octal and hexadecimal."
   ]
  },
  {
   "cell_type": "code",
   "execution_count": 38,
   "metadata": {},
   "outputs": [
    {
     "name": "stdout",
     "output_type": "stream",
     "text": [
      "[1, 0, 1, 0]\n"
     ]
    }
   ],
   "source": [
    "x = 10\n",
    "binary = []\n",
    "while x>0:\n",
    "    rem = x%2\n",
    "    binary.append(rem)\n",
    "    x = x//2\n",
    "binary.reverse()\n",
    "print(binary)"
   ]
  },
  {
   "cell_type": "code",
   "execution_count": 6,
   "metadata": {},
   "outputs": [
    {
     "name": "stdout",
     "output_type": "stream",
     "text": [
      "Enter the decimal number:23\n",
      "Binary value of 23 is 10111\n",
      "Octal value of 23 is 27\n",
      "Hexadecimal value of 23 is 17\n"
     ]
    }
   ],
   "source": [
    "x = int(input(\"Enter the decimal number:\"))\n",
    "print(\"Binary value of {} is {}\".format(x, bin(x).replace(\"0b\",\"\")))\n",
    "print(\"Octal value of {} is {}\".format(x, oct(x).replace(\"0o\",\"\")))\n",
    "print(\"Hexadecimal value of {} is {}\".format(x, hex(x).replace(\"0x\",\"\")))"
   ]
  },
  {
   "cell_type": "markdown",
   "metadata": {},
   "source": [
    "#### 4. Write a Python Program to find ASCII value of a character"
   ]
  },
  {
   "cell_type": "code",
   "execution_count": 12,
   "metadata": {},
   "outputs": [
    {
     "name": "stdout",
     "output_type": "stream",
     "text": [
      "Enter the character that you wish to convert to ASCII: I\n",
      "The ASCII value of I is 73\n"
     ]
    }
   ],
   "source": [
    "char = input(\"Enter the character that you wish to convert to ASCII: \")\n",
    "print(\"The ASCII value of {} is {}\".format(char, ord(char)))"
   ]
  },
  {
   "cell_type": "markdown",
   "metadata": {},
   "source": [
    "#### 5. Write a Python Program to make a simple calculator with 4 basic mathematical operations."
   ]
  },
  {
   "cell_type": "code",
   "execution_count": 35,
   "metadata": {},
   "outputs": [
    {
     "name": "stdout",
     "output_type": "stream",
     "text": [
      "Calculator is ready. Enter your integers25*2\n",
      "50\n"
     ]
    }
   ],
   "source": [
    "nums = input('Calculator is ready. Enter your expression in integers')\n",
    "import re\n",
    "x = re.split('(\\d+)',nums)\n",
    "x[1] = int(x[1])\n",
    "x[3] = int(x[3])\n",
    "ans = x[1]*x[3] if x[2]=='*' else x[1]+x[3] if x[2]=='+' else x[1]-x[3] if x[2]=='-' else x[1]/x[3]\n",
    "print(ans)"
   ]
  },
  {
   "cell_type": "code",
   "execution_count": null,
   "metadata": {},
   "outputs": [],
   "source": []
  }
 ],
 "metadata": {
  "kernelspec": {
   "display_name": "Python 3",
   "language": "python",
   "name": "python3"
  },
  "language_info": {
   "codemirror_mode": {
    "name": "ipython",
    "version": 3
   },
   "file_extension": ".py",
   "mimetype": "text/x-python",
   "name": "python",
   "nbconvert_exporter": "python",
   "pygments_lexer": "ipython3",
   "version": "3.8.5"
  }
 },
 "nbformat": 4,
 "nbformat_minor": 4
}
