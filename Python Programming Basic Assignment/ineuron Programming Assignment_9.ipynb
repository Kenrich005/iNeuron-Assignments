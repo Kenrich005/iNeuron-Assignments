{
 "cells": [
  {
   "cell_type": "markdown",
   "metadata": {},
   "source": [
    "##### 17-Nov-21"
   ]
  },
  {
   "cell_type": "markdown",
   "metadata": {},
   "source": [
    "## iNeuron Programming Assignment 9"
   ]
  },
  {
   "cell_type": "markdown",
   "metadata": {},
   "source": [
    "#### 1. Write a Python program to check if the given number is a Disarium Number?"
   ]
  },
  {
   "cell_type": "markdown",
   "metadata": {},
   "source": [
    "A number is said to be a Disarium number the number is equal to the sum of its digits raised to the power of its respective position in the number.  \n",
    "175 = 1^1 + 7^2 + 5^3"
   ]
  },
  {
   "cell_type": "code",
   "execution_count": 1,
   "metadata": {},
   "outputs": [
    {
     "name": "stdout",
     "output_type": "stream",
     "text": [
      "175  is a Disarium number\n"
     ]
    }
   ],
   "source": [
    "def disarium_check(dis_num):\n",
    "    valid = 0\n",
    "\n",
    "    for i,j in enumerate(str(dis_num)):\n",
    "        valid = int(j)**(i+1) + valid\n",
    "\n",
    "    if dis_num==valid: \n",
    "        print(dis_num,' is a Disarium number')\n",
    "\n",
    "disarium_check(175)"
   ]
  },
  {
   "cell_type": "markdown",
   "metadata": {},
   "source": [
    "#### 2. Write a Python program to print all disarium numbers between 1 to 100?"
   ]
  },
  {
   "cell_type": "code",
   "execution_count": 2,
   "metadata": {},
   "outputs": [
    {
     "name": "stdout",
     "output_type": "stream",
     "text": [
      "1  is a Disarium number\n",
      "2  is a Disarium number\n",
      "3  is a Disarium number\n",
      "4  is a Disarium number\n",
      "5  is a Disarium number\n",
      "6  is a Disarium number\n",
      "7  is a Disarium number\n",
      "8  is a Disarium number\n",
      "9  is a Disarium number\n",
      "89  is a Disarium number\n"
     ]
    }
   ],
   "source": [
    "for i in range(1,100):\n",
    "    disarium_check(i)"
   ]
  },
  {
   "cell_type": "markdown",
   "metadata": {},
   "source": [
    "#### 3. Write a Python program to check if the given number is Happy Number?"
   ]
  },
  {
   "cell_type": "code",
   "execution_count": 3,
   "metadata": {},
   "outputs": [],
   "source": [
    "def happynumber_check(num_og):\n",
    "    num=num_og\n",
    "    alist = []\n",
    "    \n",
    "    while num!=1:\n",
    "        happy_num = 0\n",
    "\n",
    "        for digit in str(num):        \n",
    "            happy_num = int(digit)**2 + happy_num      # Code to get square of digits of the number\n",
    "\n",
    "        num = happy_num                                # Storing the value in num          \n",
    "   \n",
    "        if num in alist:\n",
    "            print(f'{num_og} is not a happy number')   # Checking if the value already occurred\n",
    "            break        \n",
    "\n",
    "        alist.append(num)                              # Storing the squared values in alist\n",
    "        \n",
    "        if num==1:\n",
    "            print(f'{num_og} is a happy number')       # If num is 1 then print Happy number"
   ]
  },
  {
   "cell_type": "code",
   "execution_count": 4,
   "metadata": {},
   "outputs": [
    {
     "name": "stdout",
     "output_type": "stream",
     "text": [
      "95 is not a happy number\n"
     ]
    }
   ],
   "source": [
    "happynumber_check(95)"
   ]
  },
  {
   "cell_type": "code",
   "execution_count": 5,
   "metadata": {},
   "outputs": [
    {
     "name": "stdout",
     "output_type": "stream",
     "text": [
      "97 is a happy number\n"
     ]
    }
   ],
   "source": [
    "happynumber_check(97)"
   ]
  },
  {
   "cell_type": "markdown",
   "metadata": {},
   "source": [
    "#### 4. Write a Python program to print all happy numbers between 1 and 100?"
   ]
  },
  {
   "cell_type": "code",
   "execution_count": 6,
   "metadata": {},
   "outputs": [],
   "source": [
    "def happynumber_check_mod(num_og):\n",
    "    num=num_og\n",
    "    alist = []\n",
    "    \n",
    "    while num!=1:\n",
    "        happy_num = 0\n",
    "\n",
    "        for digit in str(num):        \n",
    "            happy_num = int(digit)**2 + happy_num      # Code to get square of digits of the number\n",
    "\n",
    "        num = happy_num                                # Storing the value in num          \n",
    "   \n",
    "        if num in alist:                               # Checking if the value already occurred\n",
    "            break        \n",
    "\n",
    "        alist.append(num)                              # Storing the squared values in alist\n",
    "        \n",
    "        if num==1:\n",
    "            print(num_og, end = ', ')                              # If num is 1 then print Happy number"
   ]
  },
  {
   "cell_type": "code",
   "execution_count": 7,
   "metadata": {},
   "outputs": [
    {
     "name": "stdout",
     "output_type": "stream",
     "text": [
      "Happy Numbers between 0 to 100\n",
      "7, 10, 13, 19, 23, 28, 31, 32, 44, 49, 68, 70, 79, 82, 86, 91, 94, 97, "
     ]
    }
   ],
   "source": [
    "print('Happy Numbers between 0 to 100')\n",
    "for i in range(100):\n",
    "    happynumber_check_mod(i)"
   ]
  },
  {
   "cell_type": "markdown",
   "metadata": {},
   "source": [
    "#### 5. Write a Python program to check if the given number is Harshad Number?"
   ]
  },
  {
   "cell_type": "code",
   "execution_count": 8,
   "metadata": {},
   "outputs": [
    {
     "name": "stdout",
     "output_type": "stream",
     "text": [
      "20 is a Harshad Number\n"
     ]
    }
   ],
   "source": [
    "inp = 20\n",
    "\n",
    "def harshad_check(inp):\n",
    "    digitsum=0\n",
    "    for i in str(inp):\n",
    "        digitsum+=int(i)\n",
    "    if inp%digitsum==0:\n",
    "        print(f'{inp} is a Harshad Number')\n",
    "    else:\n",
    "        print(f'{inp} is not a Harshad Number')\n",
    "        \n",
    "harshad_check(20)"
   ]
  },
  {
   "cell_type": "markdown",
   "metadata": {},
   "source": [
    "#### 6. Write a python program to print all pronic numbers between 1 to 100"
   ]
  },
  {
   "cell_type": "code",
   "execution_count": 9,
   "metadata": {},
   "outputs": [
    {
     "name": "stdout",
     "output_type": "stream",
     "text": [
      "a pronic number\n"
     ]
    }
   ],
   "source": [
    "def pronic_check(inp):\n",
    "    flag = 'not a pronic number'\n",
    "    for i in range(0,int(inp/2)):\n",
    "        if i*(i+1)==inp:\n",
    "            flag = 'a pronic number'\n",
    "    return flag\n",
    "\n",
    "print(pronic_check(20))"
   ]
  },
  {
   "cell_type": "code",
   "execution_count": 10,
   "metadata": {},
   "outputs": [
    {
     "name": "stdout",
     "output_type": "stream",
     "text": [
      "not a pronic number\n"
     ]
    }
   ],
   "source": [
    "print(pronic_check(51))"
   ]
  },
  {
   "cell_type": "code",
   "execution_count": 11,
   "metadata": {},
   "outputs": [
    {
     "name": "stdout",
     "output_type": "stream",
     "text": [
      "a pronic number\n"
     ]
    }
   ],
   "source": [
    "print(pronic_check(110))"
   ]
  },
  {
   "cell_type": "code",
   "execution_count": 12,
   "metadata": {},
   "outputs": [
    {
     "name": "stdout",
     "output_type": "stream",
     "text": [
      "True\n"
     ]
    }
   ],
   "source": [
    "def pronic_check_mod(inp):\n",
    "    flag = False\n",
    "    for i in range(0,int(inp/2)):\n",
    "        if i*(i+1)==inp:\n",
    "            flag = True\n",
    "    return flag\n",
    "\n",
    "print(pronic_check_mod(20))"
   ]
  },
  {
   "cell_type": "code",
   "execution_count": 13,
   "metadata": {},
   "outputs": [
    {
     "name": "stdout",
     "output_type": "stream",
     "text": [
      "Pronic Numbers\n",
      "6\n",
      "12\n",
      "20\n",
      "30\n",
      "42\n",
      "56\n",
      "72\n",
      "90\n"
     ]
    }
   ],
   "source": [
    "print('Pronic Numbers')\n",
    "for i in range(100):\n",
    "    if pronic_check_mod(i):\n",
    "        print(i)"
   ]
  }
 ],
 "metadata": {
  "kernelspec": {
   "display_name": "Python 3",
   "language": "python",
   "name": "python3"
  },
  "language_info": {
   "codemirror_mode": {
    "name": "ipython",
    "version": 3
   },
   "file_extension": ".py",
   "mimetype": "text/x-python",
   "name": "python",
   "nbconvert_exporter": "python",
   "pygments_lexer": "ipython3",
   "version": "3.8.5"
  }
 },
 "nbformat": 4,
 "nbformat_minor": 4
}
