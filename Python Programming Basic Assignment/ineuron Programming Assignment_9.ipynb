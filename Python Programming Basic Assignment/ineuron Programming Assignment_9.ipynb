{
 "cells": [
  {
   "cell_type": "markdown",
   "metadata": {},
   "source": [
    "##### 17-Nov-21"
   ]
  },
  {
   "cell_type": "markdown",
   "metadata": {},
   "source": [
    "## iNeuron Programming Assignment 9"
   ]
  },
  {
   "cell_type": "markdown",
   "metadata": {},
   "source": [
    "#### 1. Write a Python program to check if the given number is a Disarium Number?"
   ]
  },
  {
   "cell_type": "markdown",
   "metadata": {},
   "source": [
    "A number is said to be a Disarium number the number is equal to the sum of its digits raised to the power of its respective position in the number.  \n",
    "175 = 1^1 + 7^2 + 5^3"
   ]
  },
  {
   "cell_type": "code",
   "execution_count": 1,
   "metadata": {},
   "outputs": [
    {
     "name": "stdout",
     "output_type": "stream",
     "text": [
      "1 1\n",
      "2 7\n",
      "3 5\n",
      "175\n",
      "175  is a Disarium number\n"
     ]
    }
   ],
   "source": [
    "dis_num = 175\n",
    "\n",
    "valid = 0\n",
    "\n",
    "for i,j in enumerate(str(dis_num)):\n",
    "    print(i+1,j)\n",
    "    valid = int(j)**(i+1) + valid\n",
    "print(valid)\n",
    "    \n",
    "if dis_num==valid: \n",
    "    print(dis_num,' is a Disarium number')"
   ]
  },
  {
   "cell_type": "markdown",
   "metadata": {},
   "source": [
    "#### 2. Write a Python program to print all disarium numbers between 1 to 100?"
   ]
  },
  {
   "cell_type": "code",
   "execution_count": 2,
   "metadata": {},
   "outputs": [
    {
     "name": "stdout",
     "output_type": "stream",
     "text": [
      "1  is a Disarium number\n",
      "2  is a Disarium number\n",
      "3  is a Disarium number\n",
      "4  is a Disarium number\n",
      "5  is a Disarium number\n",
      "6  is a Disarium number\n",
      "7  is a Disarium number\n",
      "8  is a Disarium number\n",
      "9  is a Disarium number\n",
      "89  is a Disarium number\n"
     ]
    }
   ],
   "source": [
    "for num in range(1,100):\n",
    "    dis_num = 0\n",
    "    for i,j in enumerate(str(num)):\n",
    "        dis_num = int(j)**(i+1) + dis_num\n",
    "                \n",
    "    if num==dis_num:\n",
    "        print(dis_num,' is a Disarium number')"
   ]
  },
  {
   "cell_type": "markdown",
   "metadata": {},
   "source": [
    "#### 3. Write a Python program to check if the given number is Happy Number?"
   ]
  },
  {
   "cell_type": "code",
   "execution_count": 3,
   "metadata": {},
   "outputs": [
    {
     "name": "stdout",
     "output_type": "stream",
     "text": [
      "97\n",
      "130\n",
      "10\n",
      "1\n",
      "1\n"
     ]
    }
   ],
   "source": [
    "num = 94\n",
    "while num!=1:\n",
    "    happy_num = 0\n",
    "    for digit in str(num):        \n",
    "        happy_num = int(digit)**2 + happy_num\n",
    "    num = happy_num\n",
    "    print(num)\n",
    "    \n",
    "print(num)"
   ]
  },
  {
   "cell_type": "code",
   "execution_count": 4,
   "metadata": {},
   "outputs": [
    {
     "name": "stdout",
     "output_type": "stream",
     "text": [
      "65\n",
      "61\n",
      "37\n",
      "58\n",
      "89\n",
      "145\n",
      "42\n",
      "20\n",
      "4\n",
      "16\n",
      "18 is not a happy number\n",
      "18 is a happy number\n"
     ]
    }
   ],
   "source": [
    "num_og,num = 18,18\n",
    "\n",
    "alist = []\n",
    "\n",
    "\n",
    "while num!=1:\n",
    "    happy_num = 0\n",
    "    \n",
    "    # Code to get square of digits of the number\n",
    "    for digit in str(num):        \n",
    "        happy_num = int(digit)**2 + happy_num\n",
    "        \n",
    "    # Storing the value in num    \n",
    "    num = happy_num\n",
    "    \n",
    "    # Checking if the value already occurred\n",
    "    if num in alist:\n",
    "        print(f'{num_og} is not a happy number')\n",
    "        break\n",
    "    \n",
    "    # Storing the squared values in alist\n",
    "    alist.append(num)\n",
    "    print(num)\n",
    "    \n",
    "print(f'{num_og} is a happy number')"
   ]
  },
  {
   "cell_type": "markdown",
   "metadata": {},
   "source": [
    "#### 4. Write a Python program to print all happy numbers between 1 and 100?"
   ]
  },
  {
   "cell_type": "code",
   "execution_count": 5,
   "metadata": {},
   "outputs": [
    {
     "name": "stdout",
     "output_type": "stream",
     "text": [
      "0 is not a happy number\n",
      "0 is a happy number\n",
      "1 is a happy number\n",
      "2 is not a happy number\n",
      "2 is a happy number\n",
      "3 is not a happy number\n",
      "3 is a happy number\n",
      "4 is not a happy number\n",
      "4 is a happy number\n",
      "5 is not a happy number\n",
      "5 is a happy number\n",
      "6 is not a happy number\n",
      "6 is a happy number\n",
      "7 is a happy number\n",
      "8 is not a happy number\n",
      "8 is a happy number\n",
      "9 is not a happy number\n",
      "9 is a happy number\n",
      "10 is a happy number\n",
      "11 is not a happy number\n",
      "11 is a happy number\n",
      "12 is not a happy number\n",
      "12 is a happy number\n",
      "13 is a happy number\n",
      "14 is not a happy number\n",
      "14 is a happy number\n",
      "15 is not a happy number\n",
      "15 is a happy number\n",
      "16 is not a happy number\n",
      "16 is a happy number\n",
      "17 is not a happy number\n",
      "17 is a happy number\n",
      "18 is not a happy number\n",
      "18 is a happy number\n",
      "19 is a happy number\n",
      "20 is not a happy number\n",
      "20 is a happy number\n",
      "21 is not a happy number\n",
      "21 is a happy number\n",
      "22 is not a happy number\n",
      "22 is a happy number\n",
      "23 is a happy number\n",
      "24 is not a happy number\n",
      "24 is a happy number\n",
      "25 is not a happy number\n",
      "25 is a happy number\n",
      "26 is not a happy number\n",
      "26 is a happy number\n",
      "27 is not a happy number\n",
      "27 is a happy number\n",
      "28 is a happy number\n",
      "29 is not a happy number\n",
      "29 is a happy number\n",
      "30 is not a happy number\n",
      "30 is a happy number\n",
      "31 is a happy number\n",
      "32 is a happy number\n",
      "33 is not a happy number\n",
      "33 is a happy number\n",
      "34 is not a happy number\n",
      "34 is a happy number\n",
      "35 is not a happy number\n",
      "35 is a happy number\n",
      "36 is not a happy number\n",
      "36 is a happy number\n",
      "37 is not a happy number\n",
      "37 is a happy number\n",
      "38 is not a happy number\n",
      "38 is a happy number\n",
      "39 is not a happy number\n",
      "39 is a happy number\n",
      "40 is not a happy number\n",
      "40 is a happy number\n",
      "41 is not a happy number\n",
      "41 is a happy number\n",
      "42 is not a happy number\n",
      "42 is a happy number\n",
      "43 is not a happy number\n",
      "43 is a happy number\n",
      "44 is a happy number\n",
      "45 is not a happy number\n",
      "45 is a happy number\n",
      "46 is not a happy number\n",
      "46 is a happy number\n",
      "47 is not a happy number\n",
      "47 is a happy number\n",
      "48 is not a happy number\n",
      "48 is a happy number\n",
      "49 is a happy number\n",
      "50 is not a happy number\n",
      "50 is a happy number\n",
      "51 is not a happy number\n",
      "51 is a happy number\n",
      "52 is not a happy number\n",
      "52 is a happy number\n",
      "53 is not a happy number\n",
      "53 is a happy number\n",
      "54 is not a happy number\n",
      "54 is a happy number\n",
      "55 is not a happy number\n",
      "55 is a happy number\n",
      "56 is not a happy number\n",
      "56 is a happy number\n",
      "57 is not a happy number\n",
      "57 is a happy number\n",
      "58 is not a happy number\n",
      "58 is a happy number\n",
      "59 is not a happy number\n",
      "59 is a happy number\n",
      "60 is not a happy number\n",
      "60 is a happy number\n",
      "61 is not a happy number\n",
      "61 is a happy number\n",
      "62 is not a happy number\n",
      "62 is a happy number\n",
      "63 is not a happy number\n",
      "63 is a happy number\n",
      "64 is not a happy number\n",
      "64 is a happy number\n",
      "65 is not a happy number\n",
      "65 is a happy number\n",
      "66 is not a happy number\n",
      "66 is a happy number\n",
      "67 is not a happy number\n",
      "67 is a happy number\n",
      "68 is a happy number\n",
      "69 is not a happy number\n",
      "69 is a happy number\n",
      "70 is a happy number\n",
      "71 is not a happy number\n",
      "71 is a happy number\n",
      "72 is not a happy number\n",
      "72 is a happy number\n",
      "73 is not a happy number\n",
      "73 is a happy number\n",
      "74 is not a happy number\n",
      "74 is a happy number\n",
      "75 is not a happy number\n",
      "75 is a happy number\n",
      "76 is not a happy number\n",
      "76 is a happy number\n",
      "77 is not a happy number\n",
      "77 is a happy number\n",
      "78 is not a happy number\n",
      "78 is a happy number\n",
      "79 is a happy number\n",
      "80 is not a happy number\n",
      "80 is a happy number\n",
      "81 is not a happy number\n",
      "81 is a happy number\n",
      "82 is a happy number\n",
      "83 is not a happy number\n",
      "83 is a happy number\n",
      "84 is not a happy number\n",
      "84 is a happy number\n",
      "85 is not a happy number\n",
      "85 is a happy number\n",
      "86 is a happy number\n",
      "87 is not a happy number\n",
      "87 is a happy number\n",
      "88 is not a happy number\n",
      "88 is a happy number\n",
      "89 is not a happy number\n",
      "89 is a happy number\n",
      "90 is not a happy number\n",
      "90 is a happy number\n",
      "91 is a happy number\n",
      "92 is not a happy number\n",
      "92 is a happy number\n",
      "93 is not a happy number\n",
      "93 is a happy number\n",
      "94 is a happy number\n",
      "95 is not a happy number\n",
      "95 is a happy number\n",
      "96 is not a happy number\n",
      "96 is a happy number\n",
      "97 is a happy number\n",
      "98 is not a happy number\n",
      "98 is a happy number\n",
      "99 is not a happy number\n",
      "99 is a happy number\n"
     ]
    }
   ],
   "source": [
    "for num in range(100):\n",
    "    num_og=num\n",
    "    \n",
    "    alist = []\n",
    "\n",
    "    while num!=1:\n",
    "        happy_num = 0\n",
    "        \n",
    "        for digit in str(num):        \n",
    "            happy_num = int(digit)**2 + happy_num      # Code to get square of digits of the number\n",
    "         \n",
    "        num = happy_num                                # Storing the value in num  \n",
    "\n",
    "        if num in alist:\n",
    "            print(f'{num_og} is not a happy number')   # Checking if the value already occurred\n",
    "            break\n",
    "\n",
    "        alist.append(num)                              # Storing the squared values in alist\n",
    "        \n",
    "    print(f'{num_og} is a happy number')"
   ]
  },
  {
   "cell_type": "markdown",
   "metadata": {},
   "source": [
    "#### 5. Write a Python program to check if the given number is Harshad Number?"
   ]
  },
  {
   "cell_type": "code",
   "execution_count": 6,
   "metadata": {},
   "outputs": [
    {
     "name": "stdout",
     "output_type": "stream",
     "text": [
      "20 is a Harshad Number\n"
     ]
    }
   ],
   "source": [
    "inp = 20\n",
    "\n",
    "def harshad_check(inp):\n",
    "    digitsum=0\n",
    "    for i in str(inp):\n",
    "        digitsum+=int(i)\n",
    "    if inp%digitsum==0:\n",
    "        print(f'{inp} is a Harshad Number')\n",
    "    else:\n",
    "        print(f'{inp} is not a Harshad Number')\n",
    "        \n",
    "harshad_check(20)"
   ]
  },
  {
   "cell_type": "markdown",
   "metadata": {},
   "source": [
    "#### 6. Write a python program to print all pronic numbers between 1 to 100"
   ]
  },
  {
   "cell_type": "code",
   "execution_count": 7,
   "metadata": {},
   "outputs": [
    {
     "name": "stdout",
     "output_type": "stream",
     "text": [
      "a pronic number\n"
     ]
    }
   ],
   "source": [
    "def pronic_check(inp):\n",
    "    flag = 'not a pronic number'\n",
    "    for i in range(0,int(inp/2)):\n",
    "        if i*(i+1)==inp:\n",
    "            flag = 'a pronic number'\n",
    "    return flag\n",
    "\n",
    "print(pronic_check(20))"
   ]
  },
  {
   "cell_type": "code",
   "execution_count": 8,
   "metadata": {},
   "outputs": [
    {
     "name": "stdout",
     "output_type": "stream",
     "text": [
      "not a pronic number\n"
     ]
    }
   ],
   "source": [
    "print(pronic_check(51))"
   ]
  },
  {
   "cell_type": "code",
   "execution_count": 9,
   "metadata": {},
   "outputs": [
    {
     "name": "stdout",
     "output_type": "stream",
     "text": [
      "a pronic number\n"
     ]
    }
   ],
   "source": [
    "print(pronic_check(110))"
   ]
  },
  {
   "cell_type": "code",
   "execution_count": 10,
   "metadata": {},
   "outputs": [
    {
     "name": "stdout",
     "output_type": "stream",
     "text": [
      "0 is not a pronic number\n",
      "1 is not a pronic number\n",
      "2 is not a pronic number\n",
      "3 is not a pronic number\n",
      "4 is not a pronic number\n",
      "5 is not a pronic number\n",
      "6 is a pronic number\n",
      "7 is not a pronic number\n",
      "8 is not a pronic number\n",
      "9 is not a pronic number\n",
      "10 is not a pronic number\n",
      "11 is not a pronic number\n",
      "12 is a pronic number\n",
      "13 is not a pronic number\n",
      "14 is not a pronic number\n",
      "15 is not a pronic number\n",
      "16 is not a pronic number\n",
      "17 is not a pronic number\n",
      "18 is not a pronic number\n",
      "19 is not a pronic number\n",
      "20 is a pronic number\n",
      "21 is not a pronic number\n",
      "22 is not a pronic number\n",
      "23 is not a pronic number\n",
      "24 is not a pronic number\n",
      "25 is not a pronic number\n",
      "26 is not a pronic number\n",
      "27 is not a pronic number\n",
      "28 is not a pronic number\n",
      "29 is not a pronic number\n",
      "30 is a pronic number\n",
      "31 is not a pronic number\n",
      "32 is not a pronic number\n",
      "33 is not a pronic number\n",
      "34 is not a pronic number\n",
      "35 is not a pronic number\n",
      "36 is not a pronic number\n",
      "37 is not a pronic number\n",
      "38 is not a pronic number\n",
      "39 is not a pronic number\n",
      "40 is not a pronic number\n",
      "41 is not a pronic number\n",
      "42 is a pronic number\n",
      "43 is not a pronic number\n",
      "44 is not a pronic number\n",
      "45 is not a pronic number\n",
      "46 is not a pronic number\n",
      "47 is not a pronic number\n",
      "48 is not a pronic number\n",
      "49 is not a pronic number\n",
      "50 is not a pronic number\n",
      "51 is not a pronic number\n",
      "52 is not a pronic number\n",
      "53 is not a pronic number\n",
      "54 is not a pronic number\n",
      "55 is not a pronic number\n",
      "56 is a pronic number\n",
      "57 is not a pronic number\n",
      "58 is not a pronic number\n",
      "59 is not a pronic number\n",
      "60 is not a pronic number\n",
      "61 is not a pronic number\n",
      "62 is not a pronic number\n",
      "63 is not a pronic number\n",
      "64 is not a pronic number\n",
      "65 is not a pronic number\n",
      "66 is not a pronic number\n",
      "67 is not a pronic number\n",
      "68 is not a pronic number\n",
      "69 is not a pronic number\n",
      "70 is not a pronic number\n",
      "71 is not a pronic number\n",
      "72 is a pronic number\n",
      "73 is not a pronic number\n",
      "74 is not a pronic number\n",
      "75 is not a pronic number\n",
      "76 is not a pronic number\n",
      "77 is not a pronic number\n",
      "78 is not a pronic number\n",
      "79 is not a pronic number\n",
      "80 is not a pronic number\n",
      "81 is not a pronic number\n",
      "82 is not a pronic number\n",
      "83 is not a pronic number\n",
      "84 is not a pronic number\n",
      "85 is not a pronic number\n",
      "86 is not a pronic number\n",
      "87 is not a pronic number\n",
      "88 is not a pronic number\n",
      "89 is not a pronic number\n",
      "90 is a pronic number\n",
      "91 is not a pronic number\n",
      "92 is not a pronic number\n",
      "93 is not a pronic number\n",
      "94 is not a pronic number\n",
      "95 is not a pronic number\n",
      "96 is not a pronic number\n",
      "97 is not a pronic number\n",
      "98 is not a pronic number\n",
      "99 is not a pronic number\n"
     ]
    }
   ],
   "source": [
    "for i in range(100):\n",
    "    print(f'{i} is {pronic_check(i)}')"
   ]
  },
  {
   "cell_type": "code",
   "execution_count": 11,
   "metadata": {},
   "outputs": [
    {
     "name": "stdout",
     "output_type": "stream",
     "text": [
      "True\n"
     ]
    }
   ],
   "source": [
    "def pronic_check_mod(inp):\n",
    "    flag = False\n",
    "    for i in range(0,int(inp/2)):\n",
    "        if i*(i+1)==inp:\n",
    "            flag = True\n",
    "    return flag\n",
    "\n",
    "print(pronic_check_mod(20))"
   ]
  },
  {
   "cell_type": "code",
   "execution_count": 12,
   "metadata": {},
   "outputs": [
    {
     "name": "stdout",
     "output_type": "stream",
     "text": [
      "Pronic Numbers\n",
      "6\n",
      "12\n",
      "20\n",
      "30\n",
      "42\n",
      "56\n",
      "72\n",
      "90\n"
     ]
    }
   ],
   "source": [
    "print('Pronic Numbers')\n",
    "for i in range(100):\n",
    "    if pronic_check_mod(i):\n",
    "        print(i)"
   ]
  },
  {
   "cell_type": "code",
   "execution_count": null,
   "metadata": {},
   "outputs": [],
   "source": []
  }
 ],
 "metadata": {
  "kernelspec": {
   "display_name": "Python 3",
   "language": "python",
   "name": "python3"
  },
  "language_info": {
   "codemirror_mode": {
    "name": "ipython",
    "version": 3
   },
   "file_extension": ".py",
   "mimetype": "text/x-python",
   "name": "python",
   "nbconvert_exporter": "python",
   "pygments_lexer": "ipython3",
   "version": "3.8.5"
  }
 },
 "nbformat": 4,
 "nbformat_minor": 4
}
