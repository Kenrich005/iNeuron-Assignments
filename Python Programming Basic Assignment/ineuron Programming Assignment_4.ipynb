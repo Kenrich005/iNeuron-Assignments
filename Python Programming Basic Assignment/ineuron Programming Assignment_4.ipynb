{
 "cells": [
  {
   "cell_type": "markdown",
   "metadata": {},
   "source": [
    "##### 19-04-2021"
   ]
  },
  {
   "cell_type": "markdown",
   "metadata": {},
   "source": [
    "# Python Programming Assignment 4"
   ]
  },
  {
   "cell_type": "markdown",
   "metadata": {},
   "source": [
    "#### 1. Write a Python Program to Find the Factorial of a Number."
   ]
  },
  {
   "cell_type": "code",
   "execution_count": 1,
   "metadata": {},
   "outputs": [
    {
     "name": "stdout",
     "output_type": "stream",
     "text": [
      "Enter the number of which to find factorial: 10\n",
      "3628800\n"
     ]
    }
   ],
   "source": [
    "x = input('Enter the number of which to find factorial: ')\n",
    "if x.isnumeric():\n",
    "    fact = 1\n",
    "    for i in range(2,int(x)+1):\n",
    "        fact = fact * i\n",
    "    print(fact)\n",
    "else:\n",
    "    print(\"Enter a legible number\")"
   ]
  },
  {
   "cell_type": "markdown",
   "metadata": {},
   "source": [
    "#### 2. Write a Python Program to Display the multiplication Table."
   ]
  },
  {
   "cell_type": "code",
   "execution_count": 2,
   "metadata": {},
   "outputs": [
    {
     "name": "stdout",
     "output_type": "stream",
     "text": [
      "Enter the number for which to print multiplication table: 10\n",
      "10 x 1 = 10\n",
      "10 x 2 = 20\n",
      "10 x 3 = 30\n",
      "10 x 4 = 40\n",
      "10 x 5 = 50\n",
      "10 x 6 = 60\n",
      "10 x 7 = 70\n",
      "10 x 8 = 80\n",
      "10 x 9 = 90\n",
      "10 x 10 = 100\n",
      "10 x 11 = 110\n",
      "10 x 12 = 120\n",
      "10 x 13 = 130\n",
      "10 x 14 = 140\n",
      "10 x 15 = 150\n",
      "10 x 16 = 160\n",
      "10 x 17 = 170\n",
      "10 x 18 = 180\n",
      "10 x 19 = 190\n",
      "10 x 20 = 200\n"
     ]
    }
   ],
   "source": [
    "x = input('Enter the number for which to print multiplication table: ')\n",
    "if x.isnumeric():\n",
    "    x = int(x)\n",
    "    for i in range(1,20+1):\n",
    "        print(\"{} x {} = {}\".format(x,i,x*i))\n",
    "else:\n",
    "    print(\"Enter a legible number\")"
   ]
  },
  {
   "cell_type": "markdown",
   "metadata": {},
   "source": [
    "#### 3. Write a Python Program to print the Fibonacci sequence.\n",
    "Fibonacci sequence: 0, 1, 1, 2, 3, 5, 8, 13, 21 ....."
   ]
  },
  {
   "cell_type": "code",
   "execution_count": 3,
   "metadata": {},
   "outputs": [
    {
     "name": "stdout",
     "output_type": "stream",
     "text": [
      "Enter the number of Fibonacci sequence you want: 10\n",
      "0   1   1   2   3   5   8   13   21   34   "
     ]
    }
   ],
   "source": [
    "n = int(input(\"Enter the number of Fibonacci sequence you want: \"))\n",
    "a = 0\n",
    "b = 1\n",
    "for i in range(n):\n",
    "    print(a, end = \"   \")\n",
    "    a,b = b, a+b"
   ]
  },
  {
   "cell_type": "markdown",
   "metadata": {},
   "source": [
    "#### 4. Write a Python Program to check armstrong number.\n",
    "153 = 1x1x1 + 5x5x5 + 3x3x3 // 153 is an Armstrong number."
   ]
  },
  {
   "cell_type": "code",
   "execution_count": 4,
   "metadata": {},
   "outputs": [
    {
     "name": "stdout",
     "output_type": "stream",
     "text": [
      "Enter number for which you want to check Armstrong(ness)10\n",
      "10 is not an Armstrong Number\n"
     ]
    }
   ],
   "source": [
    "x = input(\"Enter number for which you want to check Armstrong(ness)\")\n",
    "if x.isnumeric():\n",
    "    arm = 0\n",
    "    n = len(x)\n",
    "    for i in x:\n",
    "        arm = arm + int(i)**n\n",
    "        \n",
    "    if int(x)==arm:\n",
    "        print(arm,'is an Armstrong Number')\n",
    "    else:\n",
    "        print(x,'is not an Armstrong Number')\n",
    "        \n",
    "else:\n",
    "    print(\"Enter a legible number\")"
   ]
  },
  {
   "cell_type": "markdown",
   "metadata": {},
   "source": [
    "#### 5. Write a Python Program to find armstrong number in an interval."
   ]
  },
  {
   "cell_type": "code",
   "execution_count": 5,
   "metadata": {},
   "outputs": [
    {
     "name": "stdout",
     "output_type": "stream",
     "text": [
      "0\n",
      "1\n",
      "2\n",
      "3\n",
      "4\n",
      "5\n",
      "6\n",
      "7\n",
      "8\n",
      "9\n",
      "153\n",
      "370\n",
      "371\n",
      "407\n"
     ]
    }
   ],
   "source": [
    "#x,y = input(\"Enter the lower and upper limit of the interval: \").split(',')\n",
    "for num in range(1000):\n",
    "    arm = 0\n",
    "    for i in str(num):\n",
    "        arm = arm + int(i)**len(str(num))\n",
    "    if arm==num:\n",
    "        print(num)"
   ]
  },
  {
   "cell_type": "markdown",
   "metadata": {},
   "source": [
    "#### 6. Write a Python Program to Find the sum of natural numbers."
   ]
  },
  {
   "cell_type": "code",
   "execution_count": 6,
   "metadata": {},
   "outputs": [
    {
     "name": "stdout",
     "output_type": "stream",
     "text": [
      "Enter the number till which you want the sum of natural numbers: 10\n",
      "55\n"
     ]
    }
   ],
   "source": [
    "x = input(\"Enter the number till which you want the sum of natural numbers: \")\n",
    "if x.isnumeric():\n",
    "    x = int(x)\n",
    "    sum = 0\n",
    "    for i in range(x+1):\n",
    "        sum = sum + i\n",
    "    print(sum)\n",
    "else:\n",
    "    print(\"Enter a legible number\")"
   ]
  }
 ],
 "metadata": {
  "kernelspec": {
   "display_name": "Python 3",
   "language": "python",
   "name": "python3"
  },
  "language_info": {
   "codemirror_mode": {
    "name": "ipython",
    "version": 3
   },
   "file_extension": ".py",
   "mimetype": "text/x-python",
   "name": "python",
   "nbconvert_exporter": "python",
   "pygments_lexer": "ipython3",
   "version": "3.8.5"
  }
 },
 "nbformat": 4,
 "nbformat_minor": 4
}
